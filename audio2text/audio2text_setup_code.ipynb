{
 "cells": [
  {
   "cell_type": "markdown",
   "metadata": {},
   "source": [
    "### 1. Build conda environment to be used in this demo"
   ]
  },
  {
   "cell_type": "markdown",
   "metadata": {},
   "source": [
    "> <b>Run the following commands from a terminal.</b>\n",
    "\n",
    "``` bash\n",
    "conda create --name demosnowparkdemo --override-channels -c https://repo.anaconda.com/pkgs/snowflake python=3.8\n",
    "conda activate demosnowparkdemo\n",
    "conda install snowflake-snowpark-python pandas pyarrow streamlit\n",
    "```"
   ]
  },
  {
   "cell_type": "markdown",
   "metadata": {},
   "source": [
    "### 2. Build docker image and push the image to image registry"
   ]
  },
  {
   "cell_type": "markdown",
   "metadata": {},
   "source": [
    "> <b>Run the following commands from a terminal. Ensure Docker is running on your laptop. Update the ORGNAME-ACCTNAME with your Snowflake account info and provide correct username (you will be prompted for your password so have it handy).</b> \n",
    "\n",
    "``` bash\n",
    "cd ..\n",
    "cd audio2text\n",
    "\n",
    "-- Refer audio2text/Dockerfile for image details\n",
    "\n",
    "docker build --no-cache --platform linux/amd64 -t ORGNAME-ACCTNAME.registry.snowflakecomputing.com/llmdemo/public/images/whisper-audio2text:latest . \n",
    "\n",
    "-- username and password same as your snowflake credential\n",
    "\n",
    "docker login ORGNAME-ACCTNAME.registry.snowflakecomputing.com -u <username>\n",
    "\n",
    "docker push ORGNAME-ACCTNAME.registry.snowflakecomputing.com/llmdemo/public/images/whisper-audio2text:latest\n",
    "```\n",
    "> <b>*** Allow docker push to complete before moving on (takes several minutes, so now is a good time for a bio break) ***</b>"
   ]
  },
  {
   "cell_type": "markdown",
   "metadata": {},
   "source": [
    "### 3. Create internal stages to hold our images and files "
   ]
  },
  {
   "cell_type": "code",
   "execution_count": 35,
   "metadata": {},
   "outputs": [],
   "source": [
    "import json\n",
    "from snowflake.snowpark.session import Session\n",
    "import snowflake.snowpark.functions as F"
   ]
  },
  {
   "cell_type": "code",
   "execution_count": 36,
   "metadata": {},
   "outputs": [],
   "source": [
    "# Connection.json file should use the SPCS_PSE_ROLE \n",
    "\n",
    "connection_parameters = json.load(open('../connection.json'))\n",
    "session = Session.builder.configs(connection_parameters).create()"
   ]
  },
  {
   "cell_type": "code",
   "execution_count": 37,
   "metadata": {},
   "outputs": [],
   "source": [
    "# Run the below command to create the required stage\n",
    "stages=['WHISPER_APP','AUDIO_FILES','SPECS','CSV_FILES']\n",
    "for stg in stages:\n",
    "    session.sql(f'''\n",
    "                CREATE OR REPLACE STAGE {stg} ENCRYPTION = (TYPE = 'SNOWFLAKE_SSE') \n",
    "                DIRECTORY = (ENABLE = TRUE);\n",
    "                ''').collect()\n"
   ]
  },
  {
   "cell_type": "markdown",
   "metadata": {},
   "source": [
    "###  4. Create SPC Service\n",
    "Update the image url line in [whisper_spec.yml](./whisper_spec.yml) with your org/acct info prior to executing the following put command\n",
    "\n",
    "ex. image: <i>myorg-myaccount</i>.registry.snowflakecomputing.com/pr_llmdemo/public/image_repo/whisper-audio2text:latest\n",
    "\n",
    "PS: <b>Run following commands using the SPCS Role, not accountadmin! (this should already be set in your [connection.json](../connection.json) file) </b>\n"
   ]
  },
  {
   "cell_type": "code",
   "execution_count": 38,
   "metadata": {},
   "outputs": [
    {
     "data": {
      "text/plain": [
       "[PutResult(source='whisper_spec.yml', target='whisper_spec.yml', source_size=546, target_size=546, source_compression='NONE', target_compression='NONE', status='UPLOADED', message='')]"
      ]
     },
     "execution_count": 38,
     "metadata": {},
     "output_type": "execute_result"
    }
   ],
   "source": [
    "\n",
    "session.file.put(\"./whisper_spec.yml\", \"@specs\",auto_compress=False)"
   ]
  },
  {
   "cell_type": "code",
   "execution_count": 39,
   "metadata": {},
   "outputs": [
    {
     "data": {
      "text/plain": [
       "[Row(status='Service WHISPER_AUDIO_TEXT_SVC successfully created.')]"
      ]
     },
     "execution_count": 39,
     "metadata": {},
     "output_type": "execute_result"
    }
   ],
   "source": [
    "# Create the service\n",
    "session.sql('''\n",
    "CREATE SERVICE IF NOT EXISTS Whisper_Audio_text_SVC\n",
    "  IN COMPUTE POOL PR_GPU_S\n",
    "  FROM @specs\n",
    "  SPEC='whisper_spec.yml'\n",
    "  EXTERNAL_ACCESS_INTEGRATIONS = (ALLOW_ALL_EAI)\n",
    "  MIN_INSTANCES=1\n",
    "  MAX_INSTANCES=1;\n",
    "            ''').collect()"
   ]
  },
  {
   "cell_type": "markdown",
   "metadata": {},
   "source": [
    "> The service must be in Ready State to proceed. Run the following command to confirm before proceeding to next step."
   ]
  },
  {
   "cell_type": "code",
   "execution_count": 41,
   "metadata": {},
   "outputs": [
    {
     "data": {
      "text/plain": [
       "{'status': 'READY',\n",
       " 'message': 'Running',\n",
       " 'containerName': 'audio-whisper-app',\n",
       " 'instanceId': '0',\n",
       " 'serviceName': 'WHISPER_AUDIO_TEXT_SVC',\n",
       " 'image': 'sfsenorthamerica-demo-psheehan.registry.snowflakecomputing.com/llmdemo/public/images/whisper-audio2text:latest',\n",
       " 'restartCount': 0,\n",
       " 'startTime': '2024-06-21T16:44:28Z'}"
      ]
     },
     "execution_count": 41,
     "metadata": {},
     "output_type": "execute_result"
    }
   ],
   "source": [
    "# Service activation may take a few minutes.\n",
    "import ast\n",
    "res=session.sql(''' \n",
    "SELECT SYSTEM$GET_SERVICE_STATUS('Whisper_Audio_text_SVC',1)\n",
    "''').collect()[0][0]\n",
    "ast.literal_eval(res)[0]"
   ]
  },
  {
   "cell_type": "markdown",
   "metadata": {},
   "source": [
    ">  Be sure the service is in the Ready State before proceeding."
   ]
  },
  {
   "cell_type": "code",
   "execution_count": 42,
   "metadata": {},
   "outputs": [
    {
     "data": {
      "text/html": [
       "<div>\n",
       "<style scoped>\n",
       "    .dataframe tbody tr th:only-of-type {\n",
       "        vertical-align: middle;\n",
       "    }\n",
       "\n",
       "    .dataframe tbody tr th {\n",
       "        vertical-align: top;\n",
       "    }\n",
       "\n",
       "    .dataframe thead th {\n",
       "        text-align: right;\n",
       "    }\n",
       "</style>\n",
       "<table border=\"1\" class=\"dataframe\">\n",
       "  <thead>\n",
       "    <tr style=\"text-align: right;\">\n",
       "      <th></th>\n",
       "      <th>LOG_LINE</th>\n",
       "    </tr>\n",
       "  </thead>\n",
       "  <tbody>\n",
       "    <tr>\n",
       "      <th>0</th>\n",
       "      <td></td>\n",
       "    </tr>\n",
       "    <tr>\n",
       "      <th>1</th>\n",
       "      <td>=============</td>\n",
       "    </tr>\n",
       "    <tr>\n",
       "      <th>2</th>\n",
       "      <td>== PyTorch ==</td>\n",
       "    </tr>\n",
       "    <tr>\n",
       "      <th>3</th>\n",
       "      <td>=============</td>\n",
       "    </tr>\n",
       "    <tr>\n",
       "      <th>4</th>\n",
       "      <td></td>\n",
       "    </tr>\n",
       "    <tr>\n",
       "      <th>5</th>\n",
       "      <td>NVIDIA Release 23.06 (build 63009835)</td>\n",
       "    </tr>\n",
       "    <tr>\n",
       "      <th>6</th>\n",
       "      <td>PyTorch Version 2.1.0a0+4136153</td>\n",
       "    </tr>\n",
       "    <tr>\n",
       "      <th>7</th>\n",
       "      <td></td>\n",
       "    </tr>\n",
       "    <tr>\n",
       "      <th>8</th>\n",
       "      <td>Container image Copyright (c) 2023, NVIDIA COR...</td>\n",
       "    </tr>\n",
       "    <tr>\n",
       "      <th>9</th>\n",
       "      <td></td>\n",
       "    </tr>\n",
       "    <tr>\n",
       "      <th>10</th>\n",
       "      <td>Copyright (c) 2014-2023 Facebook Inc.</td>\n",
       "    </tr>\n",
       "    <tr>\n",
       "      <th>11</th>\n",
       "      <td>Copyright (c) 2011-2014 Idiap Research Institu...</td>\n",
       "    </tr>\n",
       "    <tr>\n",
       "      <th>12</th>\n",
       "      <td>Copyright (c) 2012-2014 Deepmind Technologies ...</td>\n",
       "    </tr>\n",
       "    <tr>\n",
       "      <th>13</th>\n",
       "      <td>Copyright (c) 2011-2012 NEC Laboratories Ameri...</td>\n",
       "    </tr>\n",
       "    <tr>\n",
       "      <th>14</th>\n",
       "      <td>Copyright (c) 2011-2013 NYU                   ...</td>\n",
       "    </tr>\n",
       "    <tr>\n",
       "      <th>15</th>\n",
       "      <td>Copyright (c) 2006-2010 NEC Laboratories Ameri...</td>\n",
       "    </tr>\n",
       "    <tr>\n",
       "      <th>16</th>\n",
       "      <td>Copyright (c) 2006      Idiap Research Institu...</td>\n",
       "    </tr>\n",
       "    <tr>\n",
       "      <th>17</th>\n",
       "      <td>Copyright (c) 2001-2004 Idiap Research Institu...</td>\n",
       "    </tr>\n",
       "    <tr>\n",
       "      <th>18</th>\n",
       "      <td>Copyright (c) 2015      Google Inc.</td>\n",
       "    </tr>\n",
       "    <tr>\n",
       "      <th>19</th>\n",
       "      <td>Copyright (c) 2015      Yangqing Jia</td>\n",
       "    </tr>\n",
       "    <tr>\n",
       "      <th>20</th>\n",
       "      <td>Copyright (c) 2013-2016 The Caffe contributors</td>\n",
       "    </tr>\n",
       "    <tr>\n",
       "      <th>21</th>\n",
       "      <td>All rights reserved.</td>\n",
       "    </tr>\n",
       "    <tr>\n",
       "      <th>22</th>\n",
       "      <td></td>\n",
       "    </tr>\n",
       "    <tr>\n",
       "      <th>23</th>\n",
       "      <td>Various files include modifications (c) NVIDIA...</td>\n",
       "    </tr>\n",
       "    <tr>\n",
       "      <th>24</th>\n",
       "      <td></td>\n",
       "    </tr>\n",
       "    <tr>\n",
       "      <th>25</th>\n",
       "      <td>This container image and its contents are gove...</td>\n",
       "    </tr>\n",
       "    <tr>\n",
       "      <th>26</th>\n",
       "      <td>By pulling and using the container, you accept...</td>\n",
       "    </tr>\n",
       "    <tr>\n",
       "      <th>27</th>\n",
       "      <td>https://developer.nvidia.com/ngc/nvidia-deep-l...</td>\n",
       "    </tr>\n",
       "    <tr>\n",
       "      <th>28</th>\n",
       "      <td></td>\n",
       "    </tr>\n",
       "    <tr>\n",
       "      <th>29</th>\n",
       "      <td>NOTE: The SHMEM allocation limit is set to the...</td>\n",
       "    </tr>\n",
       "    <tr>\n",
       "      <th>30</th>\n",
       "      <td>insufficient for PyTorch.  NVIDIA recommend...</td>\n",
       "    </tr>\n",
       "    <tr>\n",
       "      <th>31</th>\n",
       "      <td>docker run --gpus all --ipc=host --ulimit m...</td>\n",
       "    </tr>\n",
       "    <tr>\n",
       "      <th>32</th>\n",
       "      <td></td>\n",
       "    </tr>\n",
       "    <tr>\n",
       "      <th>33</th>\n",
       "      <td>whisper-core [2024-06-21 16:44:30,946] [DEBUG]...</td>\n",
       "    </tr>\n",
       "    <tr>\n",
       "      <th>34</th>\n",
       "      <td>\\r  0%|                                       ...</td>\n",
       "    </tr>\n",
       "    <tr>\n",
       "      <th>35</th>\n",
       "      <td>/usr/local/lib/python3.10/dist-packages/snowfl...</td>\n",
       "    </tr>\n",
       "    <tr>\n",
       "      <th>36</th>\n",
       "      <td>warn_incompatible_dep(</td>\n",
       "    </tr>\n",
       "    <tr>\n",
       "      <th>37</th>\n",
       "      <td>INFO:     Started server process [1]</td>\n",
       "    </tr>\n",
       "    <tr>\n",
       "      <th>38</th>\n",
       "      <td>INFO:     Waiting for application startup.</td>\n",
       "    </tr>\n",
       "    <tr>\n",
       "      <th>39</th>\n",
       "      <td>INFO:     Application startup complete.</td>\n",
       "    </tr>\n",
       "    <tr>\n",
       "      <th>40</th>\n",
       "      <td>INFO:     Uvicorn running on http://0.0.0.0:90...</td>\n",
       "    </tr>\n",
       "    <tr>\n",
       "      <th>41</th>\n",
       "      <td></td>\n",
       "    </tr>\n",
       "  </tbody>\n",
       "</table>\n",
       "</div>"
      ],
      "text/plain": [
       "                                             LOG_LINE\n",
       "0                                                    \n",
       "1                                       =============\n",
       "2                                       == PyTorch ==\n",
       "3                                       =============\n",
       "4                                                    \n",
       "5               NVIDIA Release 23.06 (build 63009835)\n",
       "6                     PyTorch Version 2.1.0a0+4136153\n",
       "7                                                    \n",
       "8   Container image Copyright (c) 2023, NVIDIA COR...\n",
       "9                                                    \n",
       "10              Copyright (c) 2014-2023 Facebook Inc.\n",
       "11  Copyright (c) 2011-2014 Idiap Research Institu...\n",
       "12  Copyright (c) 2012-2014 Deepmind Technologies ...\n",
       "13  Copyright (c) 2011-2012 NEC Laboratories Ameri...\n",
       "14  Copyright (c) 2011-2013 NYU                   ...\n",
       "15  Copyright (c) 2006-2010 NEC Laboratories Ameri...\n",
       "16  Copyright (c) 2006      Idiap Research Institu...\n",
       "17  Copyright (c) 2001-2004 Idiap Research Institu...\n",
       "18                Copyright (c) 2015      Google Inc.\n",
       "19               Copyright (c) 2015      Yangqing Jia\n",
       "20     Copyright (c) 2013-2016 The Caffe contributors\n",
       "21                               All rights reserved.\n",
       "22                                                   \n",
       "23  Various files include modifications (c) NVIDIA...\n",
       "24                                                   \n",
       "25  This container image and its contents are gove...\n",
       "26  By pulling and using the container, you accept...\n",
       "27  https://developer.nvidia.com/ngc/nvidia-deep-l...\n",
       "28                                                   \n",
       "29  NOTE: The SHMEM allocation limit is set to the...\n",
       "30     insufficient for PyTorch.  NVIDIA recommend...\n",
       "31     docker run --gpus all --ipc=host --ulimit m...\n",
       "32                                                   \n",
       "33  whisper-core [2024-06-21 16:44:30,946] [DEBUG]...\n",
       "34  \\r  0%|                                       ...\n",
       "35  /usr/local/lib/python3.10/dist-packages/snowfl...\n",
       "36                             warn_incompatible_dep(\n",
       "37               INFO:     Started server process [1]\n",
       "38         INFO:     Waiting for application startup.\n",
       "39            INFO:     Application startup complete.\n",
       "40  INFO:     Uvicorn running on http://0.0.0.0:90...\n",
       "41                                                   "
      ]
     },
     "execution_count": 42,
     "metadata": {},
     "output_type": "execute_result"
    }
   ],
   "source": [
    "#  Check the log for the service for any errors.\n",
    "session.sql('''SELECT value AS log_line\n",
    "FROM TABLE(\n",
    " SPLIT_TO_TABLE(SYSTEM$GET_SERVICE_LOGS('Whisper_Audio_text_SVC', 0, 'audio-whisper-app'), '\\n')\n",
    "  )''').to_pandas()\n"
   ]
  },
  {
   "cell_type": "markdown",
   "metadata": {},
   "source": [
    "### 5. Creating the service function"
   ]
  },
  {
   "cell_type": "code",
   "execution_count": 43,
   "metadata": {},
   "outputs": [
    {
     "data": {
      "text/plain": [
       "[Row(status='Function DURATION successfully created.')]"
      ]
     },
     "execution_count": 43,
     "metadata": {},
     "output_type": "execute_result"
    }
   ],
   "source": [
    "#   Function to get duration of the audio files\n",
    "session.sql('''CREATE OR REPLACE FUNCTION DURATION(AUDIO_FILE TEXT)\n",
    "RETURNS VARIANT\n",
    "SERVICE=Whisper_Audio_text_SVC\n",
    "ENDPOINT=API\n",
    "AS '/audio-duration'\n",
    "            ''').collect()\n"
   ]
  },
  {
   "cell_type": "code",
   "execution_count": 44,
   "metadata": {},
   "outputs": [
    {
     "data": {
      "text/plain": [
       "[Row(status='Function TRANSCRIBE successfully created.')]"
      ]
     },
     "execution_count": 44,
     "metadata": {},
     "output_type": "execute_result"
    }
   ],
   "source": [
    "# Function to transcribe the audio files\n",
    "session.sql('''CREATE OR REPLACE FUNCTION TRANSCRIBE(TASK TEXT, LANGUAGE TEXT, AUDIO_FILE TEXT, ENCODE BOOLEAN)\n",
    "RETURNS VARIANT\n",
    "SERVICE=Whisper_Audio_text_SVC\n",
    "ENDPOINT=API\n",
    "AS '/asr'\n",
    "            ''').collect()"
   ]
  },
  {
   "cell_type": "code",
   "execution_count": 45,
   "metadata": {},
   "outputs": [
    {
     "data": {
      "text/plain": [
       "[Row(status='Function DETECT_LANGUAGE successfully created.')]"
      ]
     },
     "execution_count": 45,
     "metadata": {},
     "output_type": "execute_result"
    }
   ],
   "source": [
    "# Function to detect language of the audio file\n",
    "session.sql('''CREATE OR REPLACE FUNCTION DETECT_LANGUAGE(AUDIO_FILE TEXT, ENCODE BOOLEAN)\n",
    "RETURNS VARIANT\n",
    "SERVICE=Whisper_Audio_text_SVC\n",
    "ENDPOINT=API\n",
    "AS '/detect-language'\n",
    "            ''').collect()"
   ]
  },
  {
   "cell_type": "code",
   "execution_count": 46,
   "metadata": {},
   "outputs": [
    {
     "data": {
      "text/plain": [
       "[Row(status='Table ALL_CLAIMS_RAW successfully created.')]"
      ]
     },
     "execution_count": 46,
     "metadata": {},
     "output_type": "execute_result"
    }
   ],
   "source": [
    "# Creating the Table to load the Audio file raw text along with duration and other attributes\n",
    "\n",
    "# Duration is in seconds\n",
    "\n",
    "session.sql('''\n",
    "    CREATE or REPLACE TABLE ALL_CLAIMS_RAW (\n",
    "\tDATETIME DATE,\n",
    "\tAUDIOFILE VARCHAR(16777216),\n",
    "\tCONVERSATION VARCHAR(16777216),\n",
    "\tPRESIGNED_URL_PATH VARCHAR(16777216),\n",
    "\tDURATION FLOAT NOT NULL\n",
    ")''').collect()\n"
   ]
  },
  {
   "cell_type": "code",
   "execution_count": 47,
   "metadata": {},
   "outputs": [
    {
     "data": {
      "text/plain": [
       "[Row(file='stages/259abeb8-fe6d-4f18-b069-0126596699c8/2024-01-26/harvard (1).wav', status='REGISTERED_NEW', description='File registered successfully.'),\n",
       " Row(file='stages/259abeb8-fe6d-4f18-b069-0126596699c8/2024-01-26/Sample_ATT_Inbound_Call-MONO_47sec.mp3', status='REGISTERED_NEW', description='File registered successfully.'),\n",
       " Row(file='stages/259abeb8-fe6d-4f18-b069-0126596699c8/2024-01-26/common_voice_de_37888599.mp3', status='REGISTERED_NEW', description='File registered successfully.'),\n",
       " Row(file='stages/259abeb8-fe6d-4f18-b069-0126596699c8/2024-01-26/Health-Insurance-1.mp3', status='REGISTERED_NEW', description='File registered successfully.'),\n",
       " Row(file='stages/259abeb8-fe6d-4f18-b069-0126596699c8/2024-01-26/common_voice_de_37942822.mp3', status='REGISTERED_NEW', description='File registered successfully.'),\n",
       " Row(file='stages/259abeb8-fe6d-4f18-b069-0126596699c8/2024-01-26/jackhammer.wav', status='REGISTERED_NEW', description='File registered successfully.')]"
      ]
     },
     "execution_count": 47,
     "metadata": {},
     "output_type": "execute_result"
    }
   ],
   "source": [
    "#  Uploading the audio files to Internal Stage\n",
    "\n",
    "_ = session.file.put(\"./audiofiles/*.*\", \"@AUDIO_FILES/2024-01-26/\", auto_compress=False,overwrite=True)\n",
    "\n",
    "session.sql(f'''ALTER STAGE AUDIO_FILES REFRESH''').collect()\n"
   ]
  },
  {
   "cell_type": "code",
   "execution_count": 48,
   "metadata": {},
   "outputs": [
    {
     "data": {
      "text/plain": [
       "[Row(name='audio_files/2024-01-26/Health-Insurance-1.mp3', size=587565, md5='889b7aa9c9c09f78b376e04ca53585c3', last_modified='Fri, 21 Jun 2024 16:57:59 GMT'),\n",
       " Row(name='audio_files/2024-01-26/Sample_ATT_Inbound_Call-MONO_47sec.mp3', size=335727, md5='273123d02e1082fba024ba4429b3f03f', last_modified='Fri, 21 Jun 2024 16:58:00 GMT'),\n",
       " Row(name='audio_files/2024-01-26/common_voice_de_37888599.mp3', size=63333, md5='cdc9ef276ed8a5ae9378795bd5ada737', last_modified='Fri, 21 Jun 2024 16:57:59 GMT'),\n",
       " Row(name='audio_files/2024-01-26/common_voice_de_37942822.mp3', size=63333, md5='68b5c52ffa45c560f851f77bb237372f', last_modified='Fri, 21 Jun 2024 16:58:00 GMT'),\n",
       " Row(name='audio_files/2024-01-26/harvard (1).wav', size=3249924, md5='0547986abb83074dc44469b94167f629', last_modified='Fri, 21 Jun 2024 16:58:00 GMT'),\n",
       " Row(name='audio_files/2024-01-26/jackhammer.wav', size=600204, md5='8ed1a3f104be95530dbace9fea26eca9', last_modified='Fri, 21 Jun 2024 16:57:59 GMT')]"
      ]
     },
     "execution_count": 48,
     "metadata": {},
     "output_type": "execute_result"
    }
   ],
   "source": [
    "session.sql('ls @AUDIO_FILES/2024-01-26').collect()"
   ]
  },
  {
   "cell_type": "code",
   "execution_count": 49,
   "metadata": {},
   "outputs": [
    {
     "data": {
      "text/plain": [
       "[Row(number of rows inserted=6)]"
      ]
     },
     "execution_count": 49,
     "metadata": {},
     "output_type": "execute_result"
    }
   ],
   "source": [
    "# Inserting records into the RAW Table\n",
    "# To have different values for the datetime, store your audio files in sub folders with yyy-mm-dd format . \n",
    "# E.g. 2024-01-10. \n",
    "session.sql('''\n",
    "INSERT INTO ALL_CLAIMS_RAW\n",
    "(\n",
    "DATETIME,\n",
    "AUDIOFILE,\n",
    "PRESIGNED_URL_PATH,\n",
    "CONVERSATION,\n",
    "DURATION\n",
    ")\n",
    "SELECT CAST(CASE WHEN split(RELATIVE_PATH,'/')[1]::string IS NULL THEN GETDATE() \n",
    "            ELSE split(RELATIVE_PATH,'/')[0]::string END AS DATE) as Datetime, \n",
    "        CASE WHEN split(RELATIVE_PATH,'/')[1]::string is null then split(RELATIVE_PATH,'/')[0]::string \n",
    "            ELSE split(RELATIVE_PATH,'/')[1]::string END as RELATIVE_PATH,\n",
    "       GET_PRESIGNED_URL('@AUDIO_FILES', RELATIVE_PATH) AS PRESIGNED_URL\n",
    "       -- ,DETECT_LANGUAGE(PRESIGNED_URL,TRUE) as DETECT_LANGUAGE\n",
    "       ,TRANSCRIBE('transcribe','',PRESIGNED_URL,True)['text']::string AS EXTRACTED_TEXT\n",
    "       ,DURATION(PRESIGNED_URL):call_duration_seconds::DOUBLE as CALL_DURATION_SECONDS\n",
    "FROM DIRECTORY('@AUDIO_FILES')\n",
    "            \n",
    "            ''').collect()"
   ]
  },
  {
   "cell_type": "code",
   "execution_count": 50,
   "metadata": {},
   "outputs": [
    {
     "data": {
      "text/html": [
       "<div>\n",
       "<style scoped>\n",
       "    .dataframe tbody tr th:only-of-type {\n",
       "        vertical-align: middle;\n",
       "    }\n",
       "\n",
       "    .dataframe tbody tr th {\n",
       "        vertical-align: top;\n",
       "    }\n",
       "\n",
       "    .dataframe thead th {\n",
       "        text-align: right;\n",
       "    }\n",
       "</style>\n",
       "<table border=\"1\" class=\"dataframe\">\n",
       "  <thead>\n",
       "    <tr style=\"text-align: right;\">\n",
       "      <th></th>\n",
       "      <th>DATETIME</th>\n",
       "      <th>AUDIOFILE</th>\n",
       "      <th>CONVERSATION</th>\n",
       "      <th>PRESIGNED_URL_PATH</th>\n",
       "      <th>DURATION</th>\n",
       "    </tr>\n",
       "  </thead>\n",
       "  <tbody>\n",
       "    <tr>\n",
       "      <th>0</th>\n",
       "      <td>2024-01-26</td>\n",
       "      <td>Health-Insurance-1.mp3</td>\n",
       "      <td>Hi, good morning. Looking for Charles Clough?...</td>\n",
       "      <td>https://sfc-prod3-ds1-customer-stage.s3.us-wes...</td>\n",
       "      <td>146.808000</td>\n",
       "    </tr>\n",
       "    <tr>\n",
       "      <th>1</th>\n",
       "      <td>2024-01-26</td>\n",
       "      <td>Sample_ATT_Inbound_Call-MONO_47sec.mp3</td>\n",
       "      <td>Thanks for calling AT&amp;T. My name is Erica. Ca...</td>\n",
       "      <td>https://sfc-prod3-ds1-customer-stage.s3.us-wes...</td>\n",
       "      <td>47.952000</td>\n",
       "    </tr>\n",
       "    <tr>\n",
       "      <th>2</th>\n",
       "      <td>2024-01-26</td>\n",
       "      <td>common_voice_de_37888599.mp3</td>\n",
       "      <td>Wie so das große Bestände stehen im Hochland-...</td>\n",
       "      <td>https://sfc-prod3-ds1-customer-stage.s3.us-wes...</td>\n",
       "      <td>10.548000</td>\n",
       "    </tr>\n",
       "    <tr>\n",
       "      <th>3</th>\n",
       "      <td>2024-01-26</td>\n",
       "      <td>common_voice_de_37942822.mp3</td>\n",
       "      <td>Der Name leitet sich aus den englischen Worte...</td>\n",
       "      <td>https://sfc-prod3-ds1-customer-stage.s3.us-wes...</td>\n",
       "      <td>10.548000</td>\n",
       "    </tr>\n",
       "    <tr>\n",
       "      <th>4</th>\n",
       "      <td>2024-01-26</td>\n",
       "      <td>harvard (1).wav</td>\n",
       "      <td>The stale smell of old beer lingers. It takes...</td>\n",
       "      <td>https://sfc-prod3-ds1-customer-stage.s3.us-wes...</td>\n",
       "      <td>18.356190</td>\n",
       "    </tr>\n",
       "    <tr>\n",
       "      <th>5</th>\n",
       "      <td>2024-01-26</td>\n",
       "      <td>jackhammer.wav</td>\n",
       "      <td>The still smell of old beer lingers.</td>\n",
       "      <td>https://sfc-prod3-ds1-customer-stage.s3.us-wes...</td>\n",
       "      <td>3.346712</td>\n",
       "    </tr>\n",
       "  </tbody>\n",
       "</table>\n",
       "</div>"
      ],
      "text/plain": [
       "     DATETIME                               AUDIOFILE  \\\n",
       "0  2024-01-26                  Health-Insurance-1.mp3   \n",
       "1  2024-01-26  Sample_ATT_Inbound_Call-MONO_47sec.mp3   \n",
       "2  2024-01-26            common_voice_de_37888599.mp3   \n",
       "3  2024-01-26            common_voice_de_37942822.mp3   \n",
       "4  2024-01-26                         harvard (1).wav   \n",
       "5  2024-01-26                          jackhammer.wav   \n",
       "\n",
       "                                        CONVERSATION  \\\n",
       "0   Hi, good morning. Looking for Charles Clough?...   \n",
       "1   Thanks for calling AT&T. My name is Erica. Ca...   \n",
       "2   Wie so das große Bestände stehen im Hochland-...   \n",
       "3   Der Name leitet sich aus den englischen Worte...   \n",
       "4   The stale smell of old beer lingers. It takes...   \n",
       "5               The still smell of old beer lingers.   \n",
       "\n",
       "                                  PRESIGNED_URL_PATH    DURATION  \n",
       "0  https://sfc-prod3-ds1-customer-stage.s3.us-wes...  146.808000  \n",
       "1  https://sfc-prod3-ds1-customer-stage.s3.us-wes...   47.952000  \n",
       "2  https://sfc-prod3-ds1-customer-stage.s3.us-wes...   10.548000  \n",
       "3  https://sfc-prod3-ds1-customer-stage.s3.us-wes...   10.548000  \n",
       "4  https://sfc-prod3-ds1-customer-stage.s3.us-wes...   18.356190  \n",
       "5  https://sfc-prod3-ds1-customer-stage.s3.us-wes...    3.346712  "
      ]
     },
     "execution_count": 50,
     "metadata": {},
     "output_type": "execute_result"
    }
   ],
   "source": [
    "session.table('ALL_CLAIMS_RAW').to_pandas()"
   ]
  },
  {
   "cell_type": "markdown",
   "metadata": {},
   "source": [
    "### 6. Loading Data into the ALL_CLAIMS_RAW Table from CSV\n",
    "\n",
    "Since we don't have lot of audio files from insurance industry, we will be loading sample data into the Raw table which has the raw conversation from the insurance industry. This data will be the source for this solution."
   ]
  },
  {
   "cell_type": "code",
   "execution_count": 51,
   "metadata": {},
   "outputs": [],
   "source": [
    "_ = session.file.put(\"./Sample_Audio_Text.csv\", \"@CSV_FILES\", auto_compress=False)\n",
    "\n",
    "sp_df=session.read.options({\"INFER_SCHEMA\":True,\"PARSE_HEADER\":True,\"FIELD_OPTIONALLY_ENCLOSED_BY\":'\"'}).csv('@CSV_FILES/Sample_Audio_Text.csv')\n",
    "\n",
    "# sp_df = session.read.option(\"INFER_SCHEMA\", True).option(\"PARSE_HEADER\", True).option(\"FIELD_OPTIONALLY_ENCLOSED_BY\",'\"').csv(\"@CSV_FILES/Sample_Audio_Text.csv\")"
   ]
  },
  {
   "cell_type": "code",
   "execution_count": 52,
   "metadata": {},
   "outputs": [],
   "source": [
    "sp_df.write.mode(\"overwrite\").save_as_table(\"ALL_CLAIMS_RAW\")"
   ]
  },
  {
   "cell_type": "code",
   "execution_count": 53,
   "metadata": {},
   "outputs": [
    {
     "data": {
      "text/html": [
       "<div>\n",
       "<style scoped>\n",
       "    .dataframe tbody tr th:only-of-type {\n",
       "        vertical-align: middle;\n",
       "    }\n",
       "\n",
       "    .dataframe tbody tr th {\n",
       "        vertical-align: top;\n",
       "    }\n",
       "\n",
       "    .dataframe thead th {\n",
       "        text-align: right;\n",
       "    }\n",
       "</style>\n",
       "<table border=\"1\" class=\"dataframe\">\n",
       "  <thead>\n",
       "    <tr style=\"text-align: right;\">\n",
       "      <th></th>\n",
       "      <th>DATETIME</th>\n",
       "      <th>AUDIOFILE</th>\n",
       "      <th>CONVERSATION</th>\n",
       "      <th>PRESIGNED_URL_PATH</th>\n",
       "      <th>DURATION</th>\n",
       "    </tr>\n",
       "  </thead>\n",
       "  <tbody>\n",
       "    <tr>\n",
       "      <th>0</th>\n",
       "      <td>2023-11-11</td>\n",
       "      <td>audiofile1.mp3</td>\n",
       "      <td>Hello, this is Emily from AutoAssure Insurance...</td>\n",
       "      <td>https://sfc-prod3-ds1-16-customer-stage.s3.us-...</td>\n",
       "      <td>218.254271</td>\n",
       "    </tr>\n",
       "    <tr>\n",
       "      <th>1</th>\n",
       "      <td>2023-11-11</td>\n",
       "      <td>audiofile2.mp3</td>\n",
       "      <td>Hello, this is James from AutoAssure Insurance...</td>\n",
       "      <td>https://sfc-prod3-ds1-16-customer-stage.s3.us-...</td>\n",
       "      <td>197.705486</td>\n",
       "    </tr>\n",
       "    <tr>\n",
       "      <th>2</th>\n",
       "      <td>2023-11-11</td>\n",
       "      <td>audiofile3.mp3</td>\n",
       "      <td>Hello, this is Sarah from AutoAssure Insurance...</td>\n",
       "      <td>https://sfc-prod3-ds1-16-customer-stage.s3.us-...</td>\n",
       "      <td>75.172382</td>\n",
       "    </tr>\n",
       "    <tr>\n",
       "      <th>3</th>\n",
       "      <td>2023-11-11</td>\n",
       "      <td>audiofile4.mp3</td>\n",
       "      <td>Hello, this is Kevin from AutoAssure Insurance...</td>\n",
       "      <td>https://sfc-prod3-ds1-16-customer-stage.s3.us-...</td>\n",
       "      <td>224.291618</td>\n",
       "    </tr>\n",
       "    <tr>\n",
       "      <th>4</th>\n",
       "      <td>2023-11-15</td>\n",
       "      <td>audiofile5.mp3</td>\n",
       "      <td>Hello, this is Olivia from AutoAssure Insuranc...</td>\n",
       "      <td>https://sfc-prod3-ds1-16-customer-stage.s3.us-...</td>\n",
       "      <td>174.649442</td>\n",
       "    </tr>\n",
       "    <tr>\n",
       "      <th>...</th>\n",
       "      <td>...</td>\n",
       "      <td>...</td>\n",
       "      <td>...</td>\n",
       "      <td>...</td>\n",
       "      <td>...</td>\n",
       "    </tr>\n",
       "    <tr>\n",
       "      <th>91</th>\n",
       "      <td>2024-01-05</td>\n",
       "      <td>audiofile92.mp3</td>\n",
       "      <td>Good morning, this is Sara at AutoAssure Insur...</td>\n",
       "      <td>https://sfc-prod3-ds1-16-customer-stage.s3.us-...</td>\n",
       "      <td>102.048162</td>\n",
       "    </tr>\n",
       "    <tr>\n",
       "      <th>92</th>\n",
       "      <td>2024-01-05</td>\n",
       "      <td>audiofile93.mp3</td>\n",
       "      <td>Hello, I'm Michael with AutoAssure Insurance, ...</td>\n",
       "      <td>https://sfc-prod3-ds1-16-customer-stage.s3.us-...</td>\n",
       "      <td>71.842008</td>\n",
       "    </tr>\n",
       "    <tr>\n",
       "      <th>93</th>\n",
       "      <td>2024-01-10</td>\n",
       "      <td>audiofile95.wav</td>\n",
       "      <td>Welcome to AutoAssure Insurance, this is Josh....</td>\n",
       "      <td>https://sfc-prod3-ds1-16-customer-stage.s3.us-...</td>\n",
       "      <td>84.340859</td>\n",
       "    </tr>\n",
       "    <tr>\n",
       "      <th>94</th>\n",
       "      <td>2024-01-10</td>\n",
       "      <td>audiofile97.wav</td>\n",
       "      <td>Hi, this is Ethan from AutoAssure Insurance. W...</td>\n",
       "      <td>https://sfc-prod3-ds1-16-customer-stage.s3.us-...</td>\n",
       "      <td>195.237454</td>\n",
       "    </tr>\n",
       "    <tr>\n",
       "      <th>95</th>\n",
       "      <td>2024-01-10</td>\n",
       "      <td>audiofile98.mp3</td>\n",
       "      <td>Hello, this is Grace with AutoAssure Insurance...</td>\n",
       "      <td>https://sfc-prod3-ds1-16-customer-stage.s3.us-...</td>\n",
       "      <td>123.076528</td>\n",
       "    </tr>\n",
       "  </tbody>\n",
       "</table>\n",
       "<p>96 rows × 5 columns</p>\n",
       "</div>"
      ],
      "text/plain": [
       "      DATETIME        AUDIOFILE  \\\n",
       "0   2023-11-11   audiofile1.mp3   \n",
       "1   2023-11-11   audiofile2.mp3   \n",
       "2   2023-11-11   audiofile3.mp3   \n",
       "3   2023-11-11   audiofile4.mp3   \n",
       "4   2023-11-15   audiofile5.mp3   \n",
       "..         ...              ...   \n",
       "91  2024-01-05  audiofile92.mp3   \n",
       "92  2024-01-05  audiofile93.mp3   \n",
       "93  2024-01-10  audiofile95.wav   \n",
       "94  2024-01-10  audiofile97.wav   \n",
       "95  2024-01-10  audiofile98.mp3   \n",
       "\n",
       "                                         CONVERSATION  \\\n",
       "0   Hello, this is Emily from AutoAssure Insurance...   \n",
       "1   Hello, this is James from AutoAssure Insurance...   \n",
       "2   Hello, this is Sarah from AutoAssure Insurance...   \n",
       "3   Hello, this is Kevin from AutoAssure Insurance...   \n",
       "4   Hello, this is Olivia from AutoAssure Insuranc...   \n",
       "..                                                ...   \n",
       "91  Good morning, this is Sara at AutoAssure Insur...   \n",
       "92  Hello, I'm Michael with AutoAssure Insurance, ...   \n",
       "93  Welcome to AutoAssure Insurance, this is Josh....   \n",
       "94  Hi, this is Ethan from AutoAssure Insurance. W...   \n",
       "95  Hello, this is Grace with AutoAssure Insurance...   \n",
       "\n",
       "                                   PRESIGNED_URL_PATH    DURATION  \n",
       "0   https://sfc-prod3-ds1-16-customer-stage.s3.us-...  218.254271  \n",
       "1   https://sfc-prod3-ds1-16-customer-stage.s3.us-...  197.705486  \n",
       "2   https://sfc-prod3-ds1-16-customer-stage.s3.us-...   75.172382  \n",
       "3   https://sfc-prod3-ds1-16-customer-stage.s3.us-...  224.291618  \n",
       "4   https://sfc-prod3-ds1-16-customer-stage.s3.us-...  174.649442  \n",
       "..                                                ...         ...  \n",
       "91  https://sfc-prod3-ds1-16-customer-stage.s3.us-...  102.048162  \n",
       "92  https://sfc-prod3-ds1-16-customer-stage.s3.us-...   71.842008  \n",
       "93  https://sfc-prod3-ds1-16-customer-stage.s3.us-...   84.340859  \n",
       "94  https://sfc-prod3-ds1-16-customer-stage.s3.us-...  195.237454  \n",
       "95  https://sfc-prod3-ds1-16-customer-stage.s3.us-...  123.076528  \n",
       "\n",
       "[96 rows x 5 columns]"
      ]
     },
     "execution_count": 53,
     "metadata": {},
     "output_type": "execute_result"
    }
   ],
   "source": [
    "session.table('ALL_CLAIMS_RAW').to_pandas()"
   ]
  }
 ],
 "metadata": {
  "kernelspec": {
   "display_name": "snowpark_3_8",
   "language": "python",
   "name": "python3"
  },
  "language_info": {
   "codemirror_mode": {
    "name": "ipython",
    "version": 3
   },
   "file_extension": ".py",
   "mimetype": "text/x-python",
   "name": "python",
   "nbconvert_exporter": "python",
   "pygments_lexer": "ipython3",
   "version": "3.8.19"
  }
 },
 "nbformat": 4,
 "nbformat_minor": 2
}
